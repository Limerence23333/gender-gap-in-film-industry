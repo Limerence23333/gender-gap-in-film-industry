{
 "cells": [
  {
   "cell_type": "code",
   "execution_count": null,
   "metadata": {},
   "outputs": [],
   "source": [
    "from tqdm import tqdm\n",
    "import pandas as pd"
   ]
  },
  {
   "cell_type": "code",
   "execution_count": null,
   "metadata": {},
   "outputs": [],
   "source": [
    "data = pd.read_csv('../data/imdb.csv')\n",
    "\n",
    "male = []\n",
    "female = []\n",
    "for i in tqdm(range(len(data))):\n",
    "    try:\n",
    "        rating = pd.read_html('https://www.imdb.com/title/' + data.iloc[i]['imdb_id'] + '/ratings/?ref_=tt_ov_rt')\n",
    "        male.append(rating[1].iloc[1]['All Ages'].split()[0])\n",
    "        female.append(rating[1].iloc[2]['All Ages'].split()[0])\n",
    "    except Exception as e:\n",
    "        print(e)\n",
    "        male.append(None)\n",
    "        female.append(None)"
   ]
  },
  {
   "cell_type": "code",
   "execution_count": null,
   "metadata": {},
   "outputs": [],
   "source": [
    "output = pd.DataFrame([male, female]).T\n",
    "output.columns = ['male', 'female']\n",
    "output.to_csv('all.csv')"
   ]
  }
 ],
 "metadata": {
  "language_info": {
   "name": "python"
  },
  "orig_nbformat": 4
 },
 "nbformat": 4,
 "nbformat_minor": 2
}

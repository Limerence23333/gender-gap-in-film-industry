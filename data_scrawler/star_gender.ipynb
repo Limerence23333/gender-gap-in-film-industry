{
 "cells": [
  {
   "cell_type": "code",
   "execution_count": null,
   "metadata": {},
   "outputs": [],
   "source": [
    "import urllib.request\n",
    "import re\n",
    "from tqdm import tqdm\n",
    "import pandas as pd\n",
    "\n",
    "data = pd.read_csv('../data/imdb.csv')\n",
    "\n",
    "star_list = []\n",
    "for i in range(len(data)):\n",
    "    try:\n",
    "        star_list += data['star_id'][i].split(',')\n",
    "    except:\n",
    "        pass\n",
    "\n",
    "star_list_set = list(set(star_list))   \n",
    "    \n",
    "link = 'https://www.imdb.com/name/'\n",
    "headers = {'User-Agent': 'Mozilla/5.0 (Windows NT 6.1; WOW64; rv:23.0) Gecko/20100101 Firefox/23.0'}\n",
    "\n",
    "gender_encoding = []\n",
    "\n",
    "for i in tqdm(range(len(star_list_set))):\n",
    "    try:\n",
    "        req = urllib.request.Request(url = link + star_list_set[i], headers = headers)\n",
    "        data = urllib.request.urlopen(req).read()\n",
    "        result = data.decode('UTF-8')\n",
    "        find = re.findall(r'meta name=\"description\" content=\"(.*):', result)\n",
    "        if \"Actor\" in find[0]:\n",
    "            gender_encoding.append(1)\n",
    "        elif \"Actress\" in find[0]:\n",
    "            gender_encoding.append(2)\n",
    "        else:\n",
    "            gender_encoding.append(None)\n",
    "    except:\n",
    "        gender_encoding.append(None)\n",
    "        \n",
    "output = pd.DataFrame(data = [star_list_set, gender_encoding]).T\n",
    "output.columns = ['id', 'gender']"
   ]
  }
 ],
 "metadata": {
  "language_info": {
   "name": "python"
  },
  "orig_nbformat": 4
 },
 "nbformat": 4,
 "nbformat_minor": 2
}
